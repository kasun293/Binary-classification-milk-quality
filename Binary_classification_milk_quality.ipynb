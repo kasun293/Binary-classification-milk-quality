{
  "nbformat": 4,
  "nbformat_minor": 0,
  "metadata": {
    "colab": {
      "provenance": []
    },
    "kernelspec": {
      "name": "python3",
      "display_name": "Python 3"
    },
    "language_info": {
      "name": "python"
    }
  },
  "cells": [
    {
      "cell_type": "code",
      "source": [
        "#open file\n",
        "from google.colab import files\n",
        "\n",
        "uploaded = files.upload()\n",
        "\n",
        "for fn in uploaded.keys():\n",
        "  print('User uploaded file \"{name}\" with length {length} bytes'.format(\n",
        "      name=fn, length=len(uploaded[fn])))"
      ],
      "metadata": {
        "colab": {
          "base_uri": "https://localhost:8080/",
          "height": 90
        },
        "id": "JFDzRbMnvqxw",
        "outputId": "1dbb1a67-8f56-4415-dce0-16cd4786b13e"
      },
      "execution_count": null,
      "outputs": [
        {
          "output_type": "display_data",
          "data": {
            "text/plain": [
              "<IPython.core.display.HTML object>"
            ],
            "text/html": [
              "\n",
              "     <input type=\"file\" id=\"files-6563bb7d-95b1-49fd-b6e1-891f3c214c05\" name=\"files[]\" multiple disabled\n",
              "        style=\"border:none\" />\n",
              "     <output id=\"result-6563bb7d-95b1-49fd-b6e1-891f3c214c05\">\n",
              "      Upload widget is only available when the cell has been executed in the\n",
              "      current browser session. Please rerun this cell to enable.\n",
              "      </output>\n",
              "      <script>// Copyright 2017 Google LLC\n",
              "//\n",
              "// Licensed under the Apache License, Version 2.0 (the \"License\");\n",
              "// you may not use this file except in compliance with the License.\n",
              "// You may obtain a copy of the License at\n",
              "//\n",
              "//      http://www.apache.org/licenses/LICENSE-2.0\n",
              "//\n",
              "// Unless required by applicable law or agreed to in writing, software\n",
              "// distributed under the License is distributed on an \"AS IS\" BASIS,\n",
              "// WITHOUT WARRANTIES OR CONDITIONS OF ANY KIND, either express or implied.\n",
              "// See the License for the specific language governing permissions and\n",
              "// limitations under the License.\n",
              "\n",
              "/**\n",
              " * @fileoverview Helpers for google.colab Python module.\n",
              " */\n",
              "(function(scope) {\n",
              "function span(text, styleAttributes = {}) {\n",
              "  const element = document.createElement('span');\n",
              "  element.textContent = text;\n",
              "  for (const key of Object.keys(styleAttributes)) {\n",
              "    element.style[key] = styleAttributes[key];\n",
              "  }\n",
              "  return element;\n",
              "}\n",
              "\n",
              "// Max number of bytes which will be uploaded at a time.\n",
              "const MAX_PAYLOAD_SIZE = 100 * 1024;\n",
              "\n",
              "function _uploadFiles(inputId, outputId) {\n",
              "  const steps = uploadFilesStep(inputId, outputId);\n",
              "  const outputElement = document.getElementById(outputId);\n",
              "  // Cache steps on the outputElement to make it available for the next call\n",
              "  // to uploadFilesContinue from Python.\n",
              "  outputElement.steps = steps;\n",
              "\n",
              "  return _uploadFilesContinue(outputId);\n",
              "}\n",
              "\n",
              "// This is roughly an async generator (not supported in the browser yet),\n",
              "// where there are multiple asynchronous steps and the Python side is going\n",
              "// to poll for completion of each step.\n",
              "// This uses a Promise to block the python side on completion of each step,\n",
              "// then passes the result of the previous step as the input to the next step.\n",
              "function _uploadFilesContinue(outputId) {\n",
              "  const outputElement = document.getElementById(outputId);\n",
              "  const steps = outputElement.steps;\n",
              "\n",
              "  const next = steps.next(outputElement.lastPromiseValue);\n",
              "  return Promise.resolve(next.value.promise).then((value) => {\n",
              "    // Cache the last promise value to make it available to the next\n",
              "    // step of the generator.\n",
              "    outputElement.lastPromiseValue = value;\n",
              "    return next.value.response;\n",
              "  });\n",
              "}\n",
              "\n",
              "/**\n",
              " * Generator function which is called between each async step of the upload\n",
              " * process.\n",
              " * @param {string} inputId Element ID of the input file picker element.\n",
              " * @param {string} outputId Element ID of the output display.\n",
              " * @return {!Iterable<!Object>} Iterable of next steps.\n",
              " */\n",
              "function* uploadFilesStep(inputId, outputId) {\n",
              "  const inputElement = document.getElementById(inputId);\n",
              "  inputElement.disabled = false;\n",
              "\n",
              "  const outputElement = document.getElementById(outputId);\n",
              "  outputElement.innerHTML = '';\n",
              "\n",
              "  const pickedPromise = new Promise((resolve) => {\n",
              "    inputElement.addEventListener('change', (e) => {\n",
              "      resolve(e.target.files);\n",
              "    });\n",
              "  });\n",
              "\n",
              "  const cancel = document.createElement('button');\n",
              "  inputElement.parentElement.appendChild(cancel);\n",
              "  cancel.textContent = 'Cancel upload';\n",
              "  const cancelPromise = new Promise((resolve) => {\n",
              "    cancel.onclick = () => {\n",
              "      resolve(null);\n",
              "    };\n",
              "  });\n",
              "\n",
              "  // Wait for the user to pick the files.\n",
              "  const files = yield {\n",
              "    promise: Promise.race([pickedPromise, cancelPromise]),\n",
              "    response: {\n",
              "      action: 'starting',\n",
              "    }\n",
              "  };\n",
              "\n",
              "  cancel.remove();\n",
              "\n",
              "  // Disable the input element since further picks are not allowed.\n",
              "  inputElement.disabled = true;\n",
              "\n",
              "  if (!files) {\n",
              "    return {\n",
              "      response: {\n",
              "        action: 'complete',\n",
              "      }\n",
              "    };\n",
              "  }\n",
              "\n",
              "  for (const file of files) {\n",
              "    const li = document.createElement('li');\n",
              "    li.append(span(file.name, {fontWeight: 'bold'}));\n",
              "    li.append(span(\n",
              "        `(${file.type || 'n/a'}) - ${file.size} bytes, ` +\n",
              "        `last modified: ${\n",
              "            file.lastModifiedDate ? file.lastModifiedDate.toLocaleDateString() :\n",
              "                                    'n/a'} - `));\n",
              "    const percent = span('0% done');\n",
              "    li.appendChild(percent);\n",
              "\n",
              "    outputElement.appendChild(li);\n",
              "\n",
              "    const fileDataPromise = new Promise((resolve) => {\n",
              "      const reader = new FileReader();\n",
              "      reader.onload = (e) => {\n",
              "        resolve(e.target.result);\n",
              "      };\n",
              "      reader.readAsArrayBuffer(file);\n",
              "    });\n",
              "    // Wait for the data to be ready.\n",
              "    let fileData = yield {\n",
              "      promise: fileDataPromise,\n",
              "      response: {\n",
              "        action: 'continue',\n",
              "      }\n",
              "    };\n",
              "\n",
              "    // Use a chunked sending to avoid message size limits. See b/62115660.\n",
              "    let position = 0;\n",
              "    do {\n",
              "      const length = Math.min(fileData.byteLength - position, MAX_PAYLOAD_SIZE);\n",
              "      const chunk = new Uint8Array(fileData, position, length);\n",
              "      position += length;\n",
              "\n",
              "      const base64 = btoa(String.fromCharCode.apply(null, chunk));\n",
              "      yield {\n",
              "        response: {\n",
              "          action: 'append',\n",
              "          file: file.name,\n",
              "          data: base64,\n",
              "        },\n",
              "      };\n",
              "\n",
              "      let percentDone = fileData.byteLength === 0 ?\n",
              "          100 :\n",
              "          Math.round((position / fileData.byteLength) * 100);\n",
              "      percent.textContent = `${percentDone}% done`;\n",
              "\n",
              "    } while (position < fileData.byteLength);\n",
              "  }\n",
              "\n",
              "  // All done.\n",
              "  yield {\n",
              "    response: {\n",
              "      action: 'complete',\n",
              "    }\n",
              "  };\n",
              "}\n",
              "\n",
              "scope.google = scope.google || {};\n",
              "scope.google.colab = scope.google.colab || {};\n",
              "scope.google.colab._files = {\n",
              "  _uploadFiles,\n",
              "  _uploadFilesContinue,\n",
              "};\n",
              "})(self);\n",
              "</script> "
            ]
          },
          "metadata": {}
        },
        {
          "output_type": "stream",
          "name": "stdout",
          "text": [
            "Saving milk.csv to milk (6).csv\n",
            "User uploaded file \"milk (6).csv\" with length 23090 bytes\n"
          ]
        }
      ]
    },
    {
      "cell_type": "code",
      "source": [
        "#print first 10 rows of the dataset\n",
        "! head milk.csv"
      ],
      "metadata": {
        "id": "LGoa8qY6v7TW",
        "colab": {
          "base_uri": "https://localhost:8080/"
        },
        "outputId": "83c59ed5-55d1-45b7-ee40-a33197d34ce0"
      },
      "execution_count": null,
      "outputs": [
        {
          "output_type": "stream",
          "name": "stdout",
          "text": [
            "pH,Temprature,Taste,Odor,Fat ,Turbidity,Colour,Grade\r\n",
            "6.6,35,1,0,1,0,254,1\r\n",
            "6.6,36,0,1,0,1,253,1\r\n",
            "8.5,70,1,1,1,1,246,0\r\n",
            "9.5,34,1,1,0,1,255,0\r\n",
            "6.6,37,0,0,0,0,255,1\r\n",
            "6.6,37,1,1,1,1,255,1\r\n",
            "5.5,45,1,0,1,1,250,0\r\n",
            "4.5,60,0,1,1,1,250,0\r\n",
            "8.1,66,1,0,1,1,255,0\r\n"
          ]
        }
      ]
    },
    {
      "cell_type": "code",
      "source": [
        "#import dataset\n",
        "import numpy as np"
      ],
      "metadata": {
        "id": "DdtMcO8cwAN3"
      },
      "execution_count": null,
      "outputs": []
    },
    {
      "cell_type": "code",
      "source": [
        "dataset = np.loadtxt('milk.csv', delimiter = \",\", skiprows = 1)"
      ],
      "metadata": {
        "id": "pq_xJBB1wv9P"
      },
      "execution_count": null,
      "outputs": []
    },
    {
      "cell_type": "code",
      "source": [
        "#get dataset shape(rows & columns)\n",
        "print(dataset.shape)"
      ],
      "metadata": {
        "id": "sj7cDIiBw0JH",
        "colab": {
          "base_uri": "https://localhost:8080/"
        },
        "outputId": "2e6c3d29-4dd1-4dd4-8d17-6e62fb030d21"
      },
      "execution_count": null,
      "outputs": [
        {
          "output_type": "stream",
          "name": "stdout",
          "text": [
            "(1059, 8)\n"
          ]
        }
      ]
    },
    {
      "cell_type": "code",
      "source": [
        "#convert values to float\n",
        "from numpy.core.arrayprint import set_printoptions\n",
        "np.set_printoptions(formatter={'float': lambda x: \"{0:0.2f}\" .format(x)})\n",
        "print(dataset[0:5, :])"
      ],
      "metadata": {
        "id": "bhZln-A1w3WS",
        "colab": {
          "base_uri": "https://localhost:8080/"
        },
        "outputId": "4645264c-72e4-42f8-a008-292a00c9f75d"
      },
      "execution_count": null,
      "outputs": [
        {
          "output_type": "stream",
          "name": "stdout",
          "text": [
            "[[6.60 35.00 1.00 0.00 1.00 0.00 254.00 1.00]\n",
            " [6.60 36.00 0.00 1.00 0.00 1.00 253.00 1.00]\n",
            " [8.50 70.00 1.00 1.00 1.00 1.00 246.00 0.00]\n",
            " [9.50 34.00 1.00 1.00 0.00 1.00 255.00 0.00]\n",
            " [6.60 37.00 0.00 0.00 0.00 0.00 255.00 1.00]]\n"
          ]
        }
      ]
    },
    {
      "cell_type": "code",
      "source": [
        "#label dataset\n",
        "dataset[dataset[:, -1] == 0, -1] = 0\n",
        "dataset[dataset[:, -1] == 1, -1] = 1\n",
        "print(dataset[0:5, :])"
      ],
      "metadata": {
        "id": "OIDlFMsCw6Z4",
        "colab": {
          "base_uri": "https://localhost:8080/"
        },
        "outputId": "f71f2965-362a-4962-9fa4-707d683f8b87"
      },
      "execution_count": null,
      "outputs": [
        {
          "output_type": "stream",
          "name": "stdout",
          "text": [
            "[[6.60 35.00 1.00 0.00 1.00 0.00 254.00 1.00]\n",
            " [6.60 36.00 0.00 1.00 0.00 1.00 253.00 1.00]\n",
            " [8.50 70.00 1.00 1.00 1.00 1.00 246.00 0.00]\n",
            " [9.50 34.00 1.00 1.00 0.00 1.00 255.00 0.00]\n",
            " [6.60 37.00 0.00 0.00 0.00 0.00 255.00 1.00]]\n"
          ]
        }
      ]
    },
    {
      "cell_type": "code",
      "source": [
        "#shuffle dataset\n",
        "from IPython.utils.path import random\n",
        "import random\n",
        "np.random.shuffle(dataset)"
      ],
      "metadata": {
        "id": "aOQA0sTdw9TK"
      },
      "execution_count": null,
      "outputs": []
    },
    {
      "cell_type": "code",
      "source": [
        "#data split\n",
        "index_20percent = int(0.2 * len(dataset[:, 0]))\n",
        "print(index_20percent)"
      ],
      "metadata": {
        "id": "XmPTtaOtxAYr",
        "colab": {
          "base_uri": "https://localhost:8080/"
        },
        "outputId": "0250b5ef-356c-4152-bf39-1cab8109bd0c"
      },
      "execution_count": null,
      "outputs": [
        {
          "output_type": "stream",
          "name": "stdout",
          "text": [
            "211\n"
          ]
        }
      ]
    },
    {
      "cell_type": "code",
      "source": [
        "#set train and validation data\n",
        "XVALIDATION = dataset[:index_20percent, :-1]\n",
        "YVALIDATION = dataset[:index_20percent, -1]\n",
        "XTRAIN = dataset[index_20percent:, 0:-1]\n",
        "YTRAIN = dataset[index_20percent:, -1]"
      ],
      "metadata": {
        "id": "D3baBnOixC3W"
      },
      "execution_count": null,
      "outputs": []
    },
    {
      "cell_type": "code",
      "source": [
        "#plot pH values\n",
        "import matplotlib.pyplot as plt\n",
        "plt.hist(XTRAIN[:, 0])\n",
        "plt.ylabel('0th column(pH)')\n",
        "plt.show()"
      ],
      "metadata": {
        "colab": {
          "base_uri": "https://localhost:8080/",
          "height": 430
        },
        "id": "nDYgMEE3xF1y",
        "outputId": "f89cc242-2faf-4328-fb95-ee26f478215c"
      },
      "execution_count": null,
      "outputs": [
        {
          "output_type": "display_data",
          "data": {
            "text/plain": [
              "<Figure size 640x480 with 1 Axes>"
            ],
            "image/png": "[encoded data removed]"
          },
          "metadata": {}
        }
      ]
    },
    {
      "cell_type": "code",
      "source": [
        "#plot output labels\n",
        "plt.hist(YTRAIN)\n",
        "plt.ylabel('output labels')\n",
        "plt.show()\n",
        "\n",
        "plt.hist(YVALIDATION)\n",
        "plt.ylabel('output labels')\n",
        "plt.show()"
      ],
      "metadata": {
        "colab": {
          "base_uri": "https://localhost:8080/",
          "height": 843
        },
        "id": "vRT4QWN8xKIn",
        "outputId": "56a948ff-d9fc-4a50-89b4-e69090a1b8f2"
      },
      "execution_count": null,
      "outputs": [
        {
          "output_type": "display_data",
          "data": {
            "text/plain": [
              "<Figure size 640x480 with 1 Axes>"
            ],
            "image/png": "[encoded data removed]"
          },
          "metadata": {}
        },
        {
          "output_type": "display_data",
          "data": {
            "text/plain": [
              "<Figure size 640x480 with 1 Axes>"
            ],
            "image/png": "[encoded data removed]"
          },
          "metadata": {}
        }
      ]
    },
    {
      "cell_type": "code",
      "source": [
        "#standardize data\n",
        "from numpy.core.fromnumeric import std\n",
        "mean = XTRAIN.mean(axis=0)\n",
        "XTRAIN -= mean\n",
        "std = XTRAIN.std(axis=0)\n",
        "XTRAIN /= std\n",
        "\n",
        "XVALIDATION -= mean\n",
        "XVALIDATION /= std\n",
        "\n",
        "print(mean)\n",
        "print(std)"
      ],
      "metadata": {
        "colab": {
          "base_uri": "https://localhost:8080/"
        },
        "id": "4g1mnMHSxOlO",
        "outputId": "ccbd3fae-e54a-4d55-b08c-01e13874040c"
      },
      "execution_count": null,
      "outputs": [
        {
          "output_type": "stream",
          "name": "stdout",
          "text": [
            "[6.59 44.30 0.55 0.43 0.68 0.49 251.78]\n",
            "[1.40 9.94 0.50 0.50 0.47 0.50 4.32]\n"
          ]
        }
      ]
    },
    {
      "cell_type": "code",
      "source": [
        "#plot standardized data\n",
        "plt.hist(XTRAIN[:, 0])\n",
        "plt.ylabel('0th column(pH)')\n",
        "plt.show()"
      ],
      "metadata": {
        "colab": {
          "base_uri": "https://localhost:8080/",
          "height": 430
        },
        "id": "Jy8EcXqaxR46",
        "outputId": "1d15aee1-585b-4938-8ace-ae47c69f6f29"
      },
      "execution_count": null,
      "outputs": [
        {
          "output_type": "display_data",
          "data": {
            "text/plain": [
              "<Figure size 640x480 with 1 Axes>"
            ],
            "image/png": "[encoded data removed]"
          },
          "metadata": {}
        }
      ]
    },
    {
      "cell_type": "code",
      "source": [
        "#print standardized data\n",
        "print(XTRAIN.shape)\n",
        "print(YTRAIN.shape)\n",
        "print(XVALIDATION.shape)\n",
        "print(YVALIDATION.shape)\n",
        "print(XTRAIN[0:3, ])\n",
        "print(YTRAIN[0:3])\n",
        "print(XVALIDATION[0:3, ])\n",
        "print(YVALIDATION[0:3])"
      ],
      "metadata": {
        "colab": {
          "base_uri": "https://localhost:8080/"
        },
        "id": "wi8uDJnVxUiT",
        "outputId": "680ec914-4030-459f-aeee-2a2c35d5fb52"
      },
      "execution_count": null,
      "outputs": [
        {
          "output_type": "stream",
          "name": "stdout",
          "text": [
            "(848, 7)\n",
            "(848,)\n",
            "(211, 7)\n",
            "(211,)\n",
            "[[-0.71 0.57 -1.11 1.14 0.68 1.02 0.74]\n",
            " [0.15 0.07 -1.11 1.14 0.68 1.02 0.74]\n",
            " [-0.07 -0.63 0.90 -0.87 0.68 -0.98 0.74]]\n",
            "[0.00 1.00 1.00]\n",
            "[[0.15 -0.84 -1.11 1.14 0.68 -0.98 0.28]\n",
            " [0.15 -0.43 0.90 1.14 0.68 1.02 0.74]\n",
            " [1.72 -0.13 0.90 1.14 0.68 1.02 -0.87]]\n",
            "[1.00 1.00 0.00]\n"
          ]
        }
      ]
    },
    {
      "cell_type": "code",
      "source": [
        "#initialize parameters\n",
        "from tensorflow import keras\n",
        "from keras.layers import Dense\n",
        "from keras.models import Sequential, load_model\n",
        "\n",
        "model = Sequential()\n",
        "model.add(Dense(16, input_dim = len(XTRAIN[0, :]), activation='relu'))\n",
        "model.add(Dense(8, activation='relu'))\n",
        "model.add(Dense(4, activation='relu'))\n",
        "model.add(Dense(1, activation='sigmoid'))\n",
        "print(model.summary())"
      ],
      "metadata": {
        "colab": {
          "base_uri": "https://localhost:8080/"
        },
        "id": "ZlXGPgft1Ias",
        "outputId": "89a2842f-1b58-4b3e-a8a4-1eadc98cdb3d"
      },
      "execution_count": null,
      "outputs": [
        {
          "output_type": "stream",
          "name": "stdout",
          "text": [
            "Model: \"sequential\"\n",
            "_________________________________________________________________\n",
            " Layer (type)                Output Shape              Param #   \n",
            "=================================================================\n",
            " dense (Dense)               (None, 16)                128       \n",
            "                                                                 \n",
            " dense_1 (Dense)             (None, 8)                 136       \n",
            "                                                                 \n",
            " dense_2 (Dense)             (None, 4)                 36        \n",
            "                                                                 \n",
            " dense_3 (Dense)             (None, 1)                 5         \n",
            "                                                                 \n",
            "=================================================================\n",
            "Total params: 305\n",
            "Trainable params: 305\n",
            "Non-trainable params: 0\n",
            "_________________________________________________________________\n",
            "None\n"
          ]
        }
      ]
    },
    {
      "cell_type": "code",
      "source": [
        "#train model\n",
        "model.compile(loss = 'binary_crossentropy', optimizer='rmsprop', metrics=['accuracy'])\n",
        "\n",
        "from keras.callbacks import EarlyStopping\n",
        "callback_b = EarlyStopping(monitor='val_loss', min_delta=0, mode='auto', patience=30, verbose=1)\n",
        "\n",
        "history = model.fit(XTRAIN, YTRAIN, validation_data=(XVALIDATION, YVALIDATION), epochs=100, batch_size=10, callbacks=[callback_b])"
      ],
      "metadata": {
        "colab": {
          "base_uri": "https://localhost:8080/"
        },
        "id": "WJLhLkJR816w",
        "outputId": "3e250e22-ccfa-47ef-e2b7-673a5d98e566"
      },
      "execution_count": null,
      "outputs": [
        {
          "output_type": "stream",
          "name": "stdout",
          "text": [
            "Epoch 1/100\n",
            "85/85 [==============================] - 1s 4ms/step - loss: 0.6295 - accuracy: 0.7028 - val_loss: 0.5517 - val_accuracy: 0.7773\n",
            "Epoch 2/100\n",
            "85/85 [==============================] - 0s 2ms/step - loss: 0.5156 - accuracy: 0.7830 - val_loss: 0.4339 - val_accuracy: 0.8436\n",
            "Epoch 3/100\n",
            "85/85 [==============================] - 0s 2ms/step - loss: 0.4287 - accuracy: 0.8113 - val_loss: 0.3652 - val_accuracy: 0.8436\n",
            "Epoch 4/100\n",
            "85/85 [==============================] - 0s 2ms/step - loss: 0.3538 - accuracy: 0.8561 - val_loss: 0.2916 - val_accuracy: 0.9289\n",
            "Epoch 5/100\n",
            "85/85 [==============================] - 0s 2ms/step - loss: 0.2732 - accuracy: 0.9151 - val_loss: 0.2220 - val_accuracy: 0.9336\n",
            "Epoch 6/100\n",
            "85/85 [==============================] - 0s 2ms/step - loss: 0.2069 - accuracy: 0.9410 - val_loss: 0.1598 - val_accuracy: 0.9763\n",
            "Epoch 7/100\n",
            "85/85 [==============================] - 0s 2ms/step - loss: 0.1518 - accuracy: 0.9658 - val_loss: 0.1144 - val_accuracy: 0.9858\n",
            "Epoch 8/100\n",
            "85/85 [==============================] - 0s 2ms/step - loss: 0.1109 - accuracy: 0.9776 - val_loss: 0.0817 - val_accuracy: 0.9858\n",
            "Epoch 9/100\n",
            "85/85 [==============================] - 0s 2ms/step - loss: 0.0863 - accuracy: 0.9788 - val_loss: 0.0626 - val_accuracy: 0.9858\n",
            "Epoch 10/100\n",
            "85/85 [==============================] - 0s 2ms/step - loss: 0.0702 - accuracy: 0.9847 - val_loss: 0.0498 - val_accuracy: 0.9905\n",
            "Epoch 11/100\n",
            "85/85 [==============================] - 0s 2ms/step - loss: 0.0590 - accuracy: 0.9894 - val_loss: 0.0413 - val_accuracy: 0.9905\n",
            "Epoch 12/100\n",
            "85/85 [==============================] - 0s 2ms/step - loss: 0.0505 - accuracy: 0.9894 - val_loss: 0.0356 - val_accuracy: 0.9905\n",
            "Epoch 13/100\n",
            "85/85 [==============================] - 0s 2ms/step - loss: 0.0464 - accuracy: 0.9894 - val_loss: 0.0330 - val_accuracy: 0.9905\n",
            "Epoch 14/100\n",
            "85/85 [==============================] - 0s 2ms/step - loss: 0.0447 - accuracy: 0.9894 - val_loss: 0.0305 - val_accuracy: 0.9905\n",
            "Epoch 15/100\n",
            "85/85 [==============================] - 0s 2ms/step - loss: 0.0404 - accuracy: 0.9894 - val_loss: 0.0276 - val_accuracy: 0.9905\n",
            "Epoch 16/100\n",
            "85/85 [==============================] - 0s 2ms/step - loss: 0.0357 - accuracy: 0.9894 - val_loss: 0.0224 - val_accuracy: 0.9905\n",
            "Epoch 17/100\n",
            "85/85 [==============================] - 0s 2ms/step - loss: 0.0309 - accuracy: 0.9894 - val_loss: 0.0174 - val_accuracy: 0.9905\n",
            "Epoch 18/100\n",
            "85/85 [==============================] - 0s 2ms/step - loss: 0.0278 - accuracy: 0.9917 - val_loss: 0.0157 - val_accuracy: 0.9953\n",
            "Epoch 19/100\n",
            "85/85 [==============================] - 0s 2ms/step - loss: 0.0238 - accuracy: 0.9953 - val_loss: 0.0126 - val_accuracy: 0.9953\n",
            "Epoch 20/100\n",
            "85/85 [==============================] - 0s 2ms/step - loss: 0.0222 - accuracy: 0.9965 - val_loss: 0.0098 - val_accuracy: 0.9953\n",
            "Epoch 21/100\n",
            "85/85 [==============================] - 0s 2ms/step - loss: 0.0194 - accuracy: 0.9965 - val_loss: 0.0080 - val_accuracy: 0.9953\n",
            "Epoch 22/100\n",
            "85/85 [==============================] - 0s 2ms/step - loss: 0.0174 - accuracy: 0.9965 - val_loss: 0.0071 - val_accuracy: 0.9953\n",
            "Epoch 23/100\n",
            "85/85 [==============================] - 0s 2ms/step - loss: 0.0166 - accuracy: 0.9965 - val_loss: 0.0065 - val_accuracy: 0.9953\n",
            "Epoch 24/100\n",
            "85/85 [==============================] - 0s 2ms/step - loss: 0.0159 - accuracy: 0.9965 - val_loss: 0.0060 - val_accuracy: 0.9953\n",
            "Epoch 25/100\n",
            "85/85 [==============================] - 0s 2ms/step - loss: 0.0136 - accuracy: 0.9965 - val_loss: 0.0054 - val_accuracy: 0.9953\n",
            "Epoch 26/100\n",
            "85/85 [==============================] - 0s 2ms/step - loss: 0.0139 - accuracy: 0.9965 - val_loss: 0.0050 - val_accuracy: 0.9953\n",
            "Epoch 27/100\n",
            "85/85 [==============================] - 0s 2ms/step - loss: 0.0125 - accuracy: 0.9965 - val_loss: 0.0046 - val_accuracy: 0.9953\n",
            "Epoch 28/100\n",
            "85/85 [==============================] - 0s 2ms/step - loss: 0.0107 - accuracy: 0.9965 - val_loss: 0.0036 - val_accuracy: 1.0000\n",
            "Epoch 29/100\n",
            "85/85 [==============================] - 0s 2ms/step - loss: 0.0104 - accuracy: 0.9965 - val_loss: 0.0029 - val_accuracy: 1.0000\n",
            "Epoch 30/100\n",
            "85/85 [==============================] - 0s 2ms/step - loss: 0.0093 - accuracy: 0.9965 - val_loss: 0.0029 - val_accuracy: 1.0000\n",
            "Epoch 31/100\n",
            "85/85 [==============================] - 0s 2ms/step - loss: 0.0095 - accuracy: 0.9965 - val_loss: 0.0034 - val_accuracy: 1.0000\n",
            "Epoch 32/100\n",
            "85/85 [==============================] - 0s 2ms/step - loss: 0.0077 - accuracy: 0.9965 - val_loss: 0.0027 - val_accuracy: 1.0000\n",
            "Epoch 33/100\n",
            "85/85 [==============================] - 0s 2ms/step - loss: 0.0085 - accuracy: 0.9965 - val_loss: 0.0028 - val_accuracy: 1.0000\n",
            "Epoch 34/100\n",
            "85/85 [==============================] - 0s 2ms/step - loss: 0.0072 - accuracy: 0.9965 - val_loss: 0.0028 - val_accuracy: 1.0000\n",
            "Epoch 35/100\n",
            "85/85 [==============================] - 0s 2ms/step - loss: 0.0075 - accuracy: 0.9965 - val_loss: 0.0031 - val_accuracy: 1.0000\n",
            "Epoch 36/100\n",
            "85/85 [==============================] - 0s 2ms/step - loss: 0.0068 - accuracy: 0.9965 - val_loss: 0.0025 - val_accuracy: 1.0000\n",
            "Epoch 37/100\n",
            "85/85 [==============================] - 0s 2ms/step - loss: 0.0065 - accuracy: 0.9965 - val_loss: 0.0031 - val_accuracy: 1.0000\n",
            "Epoch 38/100\n",
            "85/85 [==============================] - 0s 2ms/step - loss: 0.0061 - accuracy: 0.9965 - val_loss: 0.0032 - val_accuracy: 1.0000\n",
            "Epoch 39/100\n",
            "85/85 [==============================] - 0s 2ms/step - loss: 0.0059 - accuracy: 0.9965 - val_loss: 0.0029 - val_accuracy: 1.0000\n",
            "Epoch 40/100\n",
            "85/85 [==============================] - 0s 2ms/step - loss: 0.0052 - accuracy: 0.9965 - val_loss: 0.0028 - val_accuracy: 1.0000\n",
            "Epoch 41/100\n",
            "85/85 [==============================] - 0s 2ms/step - loss: 0.0053 - accuracy: 0.9965 - val_loss: 0.0032 - val_accuracy: 1.0000\n",
            "Epoch 42/100\n",
            "85/85 [==============================] - 0s 2ms/step - loss: 0.0046 - accuracy: 0.9965 - val_loss: 0.0032 - val_accuracy: 1.0000\n",
            "Epoch 43/100\n",
            "85/85 [==============================] - 0s 2ms/step - loss: 0.0047 - accuracy: 0.9965 - val_loss: 0.0028 - val_accuracy: 1.0000\n",
            "Epoch 44/100\n",
            "85/85 [==============================] - 0s 2ms/step - loss: 0.0042 - accuracy: 0.9976 - val_loss: 0.0032 - val_accuracy: 1.0000\n",
            "Epoch 45/100\n",
            "85/85 [==============================] - 0s 2ms/step - loss: 0.0037 - accuracy: 0.9988 - val_loss: 0.0026 - val_accuracy: 1.0000\n",
            "Epoch 46/100\n",
            "85/85 [==============================] - 0s 3ms/step - loss: 0.0040 - accuracy: 0.9988 - val_loss: 0.0029 - val_accuracy: 1.0000\n",
            "Epoch 47/100\n",
            "85/85 [==============================] - 0s 2ms/step - loss: 0.0037 - accuracy: 0.9988 - val_loss: 0.0035 - val_accuracy: 0.9953\n",
            "Epoch 48/100\n",
            "85/85 [==============================] - 0s 3ms/step - loss: 0.0033 - accuracy: 0.9988 - val_loss: 0.0035 - val_accuracy: 0.9953\n",
            "Epoch 49/100\n",
            "85/85 [==============================] - 0s 2ms/step - loss: 0.0029 - accuracy: 0.9988 - val_loss: 0.0032 - val_accuracy: 1.0000\n",
            "Epoch 50/100\n",
            "85/85 [==============================] - 0s 3ms/step - loss: 0.0031 - accuracy: 0.9988 - val_loss: 0.0035 - val_accuracy: 0.9953\n",
            "Epoch 51/100\n",
            "85/85 [==============================] - 0s 3ms/step - loss: 0.0027 - accuracy: 0.9988 - val_loss: 0.0034 - val_accuracy: 0.9953\n",
            "Epoch 52/100\n",
            "85/85 [==============================] - 0s 3ms/step - loss: 0.0024 - accuracy: 0.9988 - val_loss: 0.0032 - val_accuracy: 1.0000\n",
            "Epoch 53/100\n",
            "85/85 [==============================] - 0s 3ms/step - loss: 0.0025 - accuracy: 0.9988 - val_loss: 0.0033 - val_accuracy: 1.0000\n",
            "Epoch 54/100\n",
            "85/85 [==============================] - 0s 3ms/step - loss: 0.0023 - accuracy: 1.0000 - val_loss: 0.0034 - val_accuracy: 0.9953\n",
            "Epoch 55/100\n",
            "85/85 [==============================] - 0s 2ms/step - loss: 0.0023 - accuracy: 0.9988 - val_loss: 0.0036 - val_accuracy: 0.9953\n",
            "Epoch 56/100\n",
            "85/85 [==============================] - 0s 2ms/step - loss: 0.0022 - accuracy: 1.0000 - val_loss: 0.0040 - val_accuracy: 0.9953\n",
            "Epoch 57/100\n",
            "85/85 [==============================] - 0s 2ms/step - loss: 0.0021 - accuracy: 1.0000 - val_loss: 0.0036 - val_accuracy: 0.9953\n",
            "Epoch 58/100\n",
            "85/85 [==============================] - 0s 2ms/step - loss: 0.0022 - accuracy: 1.0000 - val_loss: 0.0038 - val_accuracy: 0.9953\n",
            "Epoch 59/100\n",
            "85/85 [==============================] - 0s 2ms/step - loss: 0.0021 - accuracy: 1.0000 - val_loss: 0.0041 - val_accuracy: 0.9953\n",
            "Epoch 60/100\n",
            "85/85 [==============================] - 0s 2ms/step - loss: 0.0021 - accuracy: 1.0000 - val_loss: 0.0039 - val_accuracy: 0.9953\n",
            "Epoch 61/100\n",
            "85/85 [==============================] - 0s 2ms/step - loss: 0.0021 - accuracy: 1.0000 - val_loss: 0.0040 - val_accuracy: 0.9953\n",
            "Epoch 62/100\n",
            "85/85 [==============================] - 0s 2ms/step - loss: 0.0021 - accuracy: 1.0000 - val_loss: 0.0045 - val_accuracy: 0.9953\n",
            "Epoch 63/100\n",
            "85/85 [==============================] - 0s 2ms/step - loss: 0.0021 - accuracy: 1.0000 - val_loss: 0.0044 - val_accuracy: 0.9953\n",
            "Epoch 64/100\n",
            "85/85 [==============================] - 0s 2ms/step - loss: 0.0021 - accuracy: 1.0000 - val_loss: 0.0042 - val_accuracy: 0.9953\n",
            "Epoch 65/100\n",
            "85/85 [==============================] - 0s 2ms/step - loss: 0.0020 - accuracy: 1.0000 - val_loss: 0.0044 - val_accuracy: 0.9953\n",
            "Epoch 66/100\n",
            "85/85 [==============================] - 0s 2ms/step - loss: 0.0020 - accuracy: 1.0000 - val_loss: 0.0041 - val_accuracy: 0.9953\n",
            "Epoch 66: early stopping\n"
          ]
        }
      ]
    },
    {
      "cell_type": "code",
      "source": [
        "#print parameters\n",
        "print(history.params)"
      ],
      "metadata": {
        "colab": {
          "base_uri": "https://localhost:8080/"
        },
        "id": "rxqn5cRu9wi4",
        "outputId": "c20aeefc-b061-42f6-a9a6-e82a69cd38aa"
      },
      "execution_count": null,
      "outputs": [
        {
          "output_type": "stream",
          "name": "stdout",
          "text": [
            "{'verbose': 1, 'epochs': 100, 'steps': 85}\n"
          ]
        }
      ]
    },
    {
      "cell_type": "code",
      "source": [
        "#plot result\n",
        "plt.plot(history.history['accuracy'])\n",
        "plt.plot(history.history['val_accuracy'])\n",
        "plt.ylabel('Accuracy')\n",
        "plt.xlabel('epoch')\n",
        "plt.legend(['training data', 'validaation data'], loc='lower right')\n",
        "plt.show()"
      ],
      "metadata": {
        "colab": {
          "base_uri": "https://localhost:8080/",
          "height": 449
        },
        "id": "b_JhRDtH9zOe",
        "outputId": "66316b8f-8e6e-4067-d27b-b667ee798cf7"
      },
      "execution_count": null,
      "outputs": [
        {
          "output_type": "display_data",
          "data": {
            "text/plain": [
              "<Figure size 640x480 with 1 Axes>"
            ],
            "image/png": "[encoded data removed]"
          },
          "metadata": {}
        }
      ]
    },
    {
      "cell_type": "code",
      "source": [
        "plt.plot(history.history['loss'])\n",
        "plt.ylabel('Loss')\n",
        "plt.xlabel('epoch')\n",
        "plt.show()"
      ],
      "metadata": {
        "colab": {
          "base_uri": "https://localhost:8080/",
          "height": 449
        },
        "id": "YYEqfaMrPWgy",
        "outputId": "d140459b-bdfd-4d5f-c7b9-17adc9d17c5b"
      },
      "execution_count": null,
      "outputs": [
        {
          "output_type": "display_data",
          "data": {
            "text/plain": [
              "<Figure size 640x480 with 1 Axes>"
            ],
            "image/png": "[encoded data removed]"
          },
          "metadata": {}
        }
      ]
    },
    {
      "cell_type": "code",
      "source": [
        "plt.plot(history.history['accuracy'])\n",
        "plt.ylabel('Accuracy')\n",
        "plt.xlabel('epoch')\n",
        "plt.show()"
      ],
      "metadata": {
        "colab": {
          "base_uri": "https://localhost:8080/",
          "height": 449
        },
        "id": "mkGaTcHSPmdj",
        "outputId": "99b62a24-4ab9-480d-ecdd-05cdce825640"
      },
      "execution_count": null,
      "outputs": [
        {
          "output_type": "display_data",
          "data": {
            "text/plain": [
              "<Figure size 640x480 with 1 Axes>"
            ],
            "image/png": "[encoded data removed]"
          },
          "metadata": {}
        }
      ]
    },
    {
      "cell_type": "code",
      "source": [
        "#accuracy\n",
        "scores = model.evaluate(XTRAIN, YTRAIN)\n",
        "print(model.metrics_names)\n",
        "print(scores)\n",
        "print(\"\\n%s: %.2f%%\" % (model.metrics_names[1], scores[1]*100))"
      ],
      "metadata": {
        "colab": {
          "base_uri": "https://localhost:8080/"
        },
        "id": "N9-lRjrJ95NU",
        "outputId": "3a803f53-468b-4561-fb85-6d4e22650689"
      },
      "execution_count": null,
      "outputs": [
        {
          "output_type": "stream",
          "name": "stdout",
          "text": [
            "27/27 [==============================] - 0s 1ms/step - loss: 0.0020 - accuracy: 1.0000\n",
            "['loss', 'accuracy']\n",
            "[0.0020080902613699436, 1.0]\n",
            "\n",
            "accuracy: 100.00%\n"
          ]
        }
      ]
    },
    {
      "cell_type": "code",
      "source": [
        "#evaluation\n",
        "scores = model.evaluate(XVALIDATION, YVALIDATION)\n",
        "print(\"\\n%s: %.2f%%\" % (model.metrics_names[1], scores[1]*100))\n",
        "\n",
        "print(XVALIDATION[0:5])\n",
        "print(YVALIDATION[0:5])\n"
      ],
      "metadata": {
        "colab": {
          "base_uri": "https://localhost:8080/"
        },
        "id": "qkrAbvt_97uS",
        "outputId": "9cdabc78-8969-4544-c7ff-658c9e9797d9"
      },
      "execution_count": null,
      "outputs": [
        {
          "output_type": "stream",
          "name": "stdout",
          "text": [
            "7/7 [==============================] - 0s 2ms/step - loss: 0.0041 - accuracy: 0.9953\n",
            "\n",
            "accuracy: 99.53%\n",
            "[[0.15 -0.84 -1.11 1.14 0.68 -0.98 0.28]\n",
            " [0.15 -0.43 0.90 1.14 0.68 1.02 0.74]\n",
            " [1.72 -0.13 0.90 1.14 0.68 1.02 -0.87]\n",
            " [-0.07 -0.84 -1.11 -0.87 0.68 -0.98 0.74]\n",
            " [-0.07 -0.63 0.90 1.14 0.68 1.02 0.74]]\n",
            "[1.00 1.00 0.00 1.00 1.00]\n"
          ]
        }
      ]
    },
    {
      "cell_type": "code",
      "source": [
        "#prediction\n",
        "prediction = model.predict(XVALIDATION)\n",
        "print(prediction[0:10])"
      ],
      "metadata": {
        "colab": {
          "base_uri": "https://localhost:8080/"
        },
        "id": "jBnXSBI9997_",
        "outputId": "78ab1c46-4e72-4e2b-f048-31b9229fc0ae"
      },
      "execution_count": null,
      "outputs": [
        {
          "output_type": "stream",
          "name": "stdout",
          "text": [
            "7/7 [==============================] - 0s 2ms/step\n",
            "[[1.00]\n",
            " [1.00]\n",
            " [0.00]\n",
            " [1.00]\n",
            " [1.00]\n",
            " [0.00]\n",
            " [0.00]\n",
            " [0.00]\n",
            " [1.00]\n",
            " [1.00]]\n"
          ]
        }
      ]
    },
    {
      "cell_type": "code",
      "source": [
        "#Accuracy,Precision,Recall,F1-score\n",
        "from sklearn.metrics import accuracy_score, precision_score, recall_score, f1_score\n",
        "\n",
        "accuracy = accuracy_score(YVALIDATION, prediction.round())\n",
        "precision = precision_score(YVALIDATION, prediction.round())\n",
        "recall = recall_score(YVALIDATION, prediction.round())\n",
        "f1score = f1_score(YVALIDATION, prediction.round())\n",
        "print(\"Accuracy: %.2f%%\" % (accuracy * 100.0))\n",
        "print(\"Precision: %.2f%%\" % (precision * 100.0))\n",
        "print(\"Recall: %.2f%%\" % (recall * 100.0))\n",
        "print(\"F1-score: %.2f%%\" % (f1score))"
      ],
      "metadata": {
        "colab": {
          "base_uri": "https://localhost:8080/"
        },
        "id": "ti08e4-z-Avb",
        "outputId": "2cbe4610-e918-43d4-a24e-8dff77546ff7"
      },
      "execution_count": null,
      "outputs": [
        {
          "output_type": "stream",
          "name": "stdout",
          "text": [
            "Accuracy: 99.53%\n",
            "Precision: 100.00%\n",
            "Recall: 99.21%\n",
            "F1-score: 1.00%\n"
          ]
        }
      ]
    }
  ]
}